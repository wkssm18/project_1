{
 "cells": [
  {
   "cell_type": "code",
   "execution_count": null,
   "id": "bfa38e0f-adf1-4281-bd41-2eca6d3e6361",
   "metadata": {},
   "outputs": [],
   "source": [
    "Amir Nizam 1+1=22"
   ]
  }
 ],
 "metadata": {
  "kernelspec": {
   "display_name": "Python 3 (ipykernel)",
   "language": "python",
   "name": "python3"
  },
  "language_info": {
   "codemirror_mode": {
    "name": "ipython",
    "version": 3
   },
   "file_extension": ".py",
   "mimetype": "text/x-python",
   "name": "python",
   "nbconvert_exporter": "python",
   "pygments_lexer": "ipython3",
   "version": "3.11.5"
  }
 },
 "nbformat": 4,
 "nbformat_minor": 5
}
