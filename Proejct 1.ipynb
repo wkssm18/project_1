{
 "cells": [
  {
   "cell_type": "markdown",
   "id": "12e46c1a-1d8c-421d-8a4a-9590ec82164b",
   "metadata": {},
   "source": [
    "## blah blah"
   ]
  },
  {
   "cell_type": "code",
   "execution_count": null,
   "id": "06308dff-7c5d-4231-b92b-2f0ac2be31bf",
   "metadata": {},
   "outputs": [],
   "source": []
  }
 ],
 "metadata": {
  "kernelspec": {
   "display_name": "Python 3 (ipykernel)",
   "language": "python",
   "name": "python3"
  },
  "language_info": {
   "codemirror_mode": {
    "name": "ipython",
    "version": 3
   },
   "file_extension": ".py",
   "mimetype": "text/x-python",
   "name": "python",
   "nbconvert_exporter": "python",
   "pygments_lexer": "ipython3",
   "version": "3.11.5"
  }
 },
 "nbformat": 4,
 "nbformat_minor": 5
}
