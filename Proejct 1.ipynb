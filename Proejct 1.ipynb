{
 "cells": [
  {
   "cell_type": "markdown",
   "id": "12e46c1a-1d8c-421d-8a4a-9590ec82164b",
   "metadata": {},
   "source": [
    "## blah blah"
   ]
  },
  {
   "cell_type": "code",
   "execution_count": null,

   "id": "bfa38e0f-adf1-4281-bd41-2eca6d3e6361",
   "metadata": {},
    "tags": []
   },
   {
   "outputs": [],
   "source": [
    "2 + 2 = 2\n"]

   "id": "06308dff-7c5d-4231-b92b-2f0ac2be31bf",
   "metadata": {},
   "outputs": [],
   "source": [
    "Amir Nizam 1+1=22"

   ]
  }
 ],
 "metadata": {
  "kernelspec": {
   "display_name": "Python 3 (ipykernel)",
   "language": "python",
   "name": "python3"
  },
  "language_info": {
   "codemirror_mode": {
    "name": "ipython",
    "version": 3
   },
   "file_extension": ".py",
   "mimetype": "text/x-python",
   "name": "python",
   "nbconvert_exporter": "python",
   "pygments_lexer": "ipython3",
   "version": "3.11.5"
  }
 },
 "nbformat": 4,
 "nbformat_minor": 5
}
