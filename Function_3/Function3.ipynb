{
 "cells": [
  {
   "cell_type": "code",
   "execution_count": 23,
   "id": "4a01c539-da6e-4e94-9344-4ad84345e02f",
   "metadata": {
    "tags": []
   },
   "outputs": [],
   "source": [
    "def weights(stock_list, num_simulations):\n",
    "    all_lists = []\n",
    "    num_assets = len(stock_list)\n",
    "    for _ in range(num_simulations):\n",
    "        random_weights = gen_random_weights(num_assets)\n",
    "        all_lists.append(random_weights)\n",
    "    if num_simulations == 1:\n",
    "        all_lists = all_lists[0]\n",
    "    return all_lists\n",
    "def gen_random_weights(num_weights):\n",
    "    weights = [random.random() for _ in range(num_weights)]\n",
    "    normalized_weights = [round(w/sum(weights), 2) for w in weights]\n",
    "    # Adjust the last weight to ensure the sum is exactly 1.00\n",
    "    normalized_weights[-1] = round(1.0 - sum(normalized_weights[:-1]), 2)\n",
    "    return normalized_weights\n"
   ]
  }
 ],
 "metadata": {
  "kernelspec": {
   "display_name": "Python 3 (ipykernel)",
   "language": "python",
   "name": "python3"
  },
  "language_info": {
   "codemirror_mode": {
    "name": "ipython",
    "version": 3
   },
   "file_extension": ".py",
   "mimetype": "text/x-python",
   "name": "python",
   "nbconvert_exporter": "python",
   "pygments_lexer": "ipython3",
   "version": "3.11.5"
  }
 },
 "nbformat": 4,
 "nbformat_minor": 5
}
