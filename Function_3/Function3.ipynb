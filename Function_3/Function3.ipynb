{
 "cells": [
  {
   "cell_type": "code",
   "execution_count": 21,
   "id": "4a01c539-da6e-4e94-9344-4ad84345e02f",
   "metadata": {
    "tags": []
   },
   "outputs": [
    {
     "name": "stdout",
     "output_type": "stream",
     "text": [
      "[[0.08, 0.54, 0.38], [0.35, 0.24, 0.41], [0.27, 0.41, 0.32], [0.61, 0.2, 0.19]]\n"
     ]
    }
   ],
   "source": [
    "def weights(num_assets, num_simulations):\n",
    "    all_lists = []\n",
    "    \n",
    "    for _ in range(num_simulations):\n",
    "        random_weights = gen_random_weights(num_assets)\n",
    "        all_lists.append(random_weights)\n",
    "    \n",
    "    return all_lists\n",
    "\n",
    "def gen_random_weights(num_weights):\n",
    "    weights = [random.random() for _ in range(num_weights)]\n",
    "    total = sum(weights)\n",
    "    normalized_weights = [round(w/total, 2) for w in weights]\n",
    "    \n",
    "    # Adjust the last weight to ensure the sum is exactly 1.00\n",
    "    normalized_weights[-1] = round(1.0 - sum(normalized_weights[:-1]), 2)\n",
    "    \n",
    "    return normalized_weights\n",
    "\n",
    "# Example usage\n",
    "num_assets = 3\n",
    "num_simulations = 4\n",
    "stock_weights = weights(num_assets, num_simulations)\n",
    "\n",
    "print(stock_weights)\n"
   ]
  }
 ],
 "metadata": {
  "kernelspec": {
   "display_name": "Python 3 (ipykernel)",
   "language": "python",
   "name": "python3"
  },
  "language_info": {
   "codemirror_mode": {
    "name": "ipython",
    "version": 3
   },
   "file_extension": ".py",
   "mimetype": "text/x-python",
   "name": "python",
   "nbconvert_exporter": "python",
   "pygments_lexer": "ipython3",
   "version": "3.11.5"
  }
 },
 "nbformat": 4,
 "nbformat_minor": 5
}
