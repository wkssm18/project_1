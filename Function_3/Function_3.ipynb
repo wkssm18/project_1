{
 "cells": [
  {
   "cell_type": "markdown",
   "id": "7c99a2b1-743d-400b-a409-f9b5fc454572",
   "metadata": {},
   "source": [
    "### Function 3 - create a Function that Randomly generate weights to each assets in portfolio\n",
    "- Input = number of assets, number of simulations\n",
    "- Output = 3 assets, 4 simulation = [[0.2, 0.2, 0.6], [0.3, 0.3, 0.4], [0.5, 0.1, 0.4], [0.8, 0.1, 0.1]]"
   ]
  },
  {
   "cell_type": "code",
   "execution_count": 1,
   "id": "4cca1336-54b0-4a7d-80a4-436864b20d06",
   "metadata": {
    "tags": []
   },
   "outputs": [],
   "source": [
    "import random\n",
    "import numpy as np"
   ]
  },
  {
   "cell_type": "code",
   "execution_count": 12,
   "id": "f6a93d06-f05b-467e-bec1-ebf0a4968186",
   "metadata": {
    "tags": []
   },
   "outputs": [
    {
     "name": "stdout",
     "output_type": "stream",
     "text": [
      "[0.13, 0.67, 0.02, 0.18]\n"
     ]
    }
   ],
   "source": [
    "def gen_random_weights(num_weights):\n",
    "    weights = [random.random() for _ in range(num_weights)]\n",
    "    total = sum(weights)\n",
    "    normalized_weights = [round(w/total, 2) for w in weights]\n",
    "    \n",
    "    # Adjust the last weight to ensure the sum is exactly 1.00\n",
    "    normalized_weights[-1] = round(1.0 - sum(normalized_weights[:-1]), 2)\n",
    "    \n",
    "    return normalized_weights\n",
    "\n",
    "random_weights = gen_random_weights(4)\n",
    "print(random_weights)\n",
    "\n"
   ]
  }
 ],
 "metadata": {
  "kernelspec": {
   "display_name": "Python 3 (ipykernel)",
   "language": "python",
   "name": "python3"
  },
  "language_info": {
   "codemirror_mode": {
    "name": "ipython",
    "version": 3
   },
   "file_extension": ".py",
   "mimetype": "text/x-python",
   "name": "python",
   "nbconvert_exporter": "python",
   "pygments_lexer": "ipython3",
   "version": "3.11.5"
  }
 },
 "nbformat": 4,
 "nbformat_minor": 5
}
