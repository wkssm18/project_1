{
 "cells": [
  {
   "cell_type": "markdown",
   "id": "f1f091c9-ab21-49b9-b1bf-ebb9b21336b7",
   "metadata": {},
   "source": [
    "### Function 4: Create Return vs. risk graph to show efficient frontier\n",
    "- Input = generated weights list, df\n",
    "\n",
    "- Output = Dataframe of portfolio returns and risks per each randomly generated weights\n",
    "\n",
    "- Eventually, graph using portfolio returns (y axis) vs. portfolio risks (x axis)"
   ]
  },
  {
   "cell_type": "code",
   "execution_count": null,
   "id": "6ef1453a-1205-488c-89e8-20c66cb8ecb2",
   "metadata": {},
   "outputs": [],
   "source": [
    "import pandas as pd\n",
    "from pathlib import Path\n",
    "import random\n",
    "import numpy as np\n",
    "import matplotlib.pyplot as plt"
   ]
  },
  {
   "cell_type": "code",
   "execution_count": null,
   "id": "ce11891e-9223-4a49-bf1b-f886e985f315",
   "metadata": {},
   "outputs": [],
   "source": [
    "*"
   ]
  }
 ],
 "metadata": {
  "kernelspec": {
   "display_name": "Python 3 (ipykernel)",
   "language": "python",
   "name": "python3"
  },
  "language_info": {
   "codemirror_mode": {
    "name": "ipython",
    "version": 3
   },
   "file_extension": ".py",
   "mimetype": "text/x-python",
   "name": "python",
   "nbconvert_exporter": "python",
   "pygments_lexer": "ipython3",
   "version": "3.11.5"
  }
 },
 "nbformat": 4,
 "nbformat_minor": 5
}
