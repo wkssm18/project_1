{
 "cells": [
  {
   "cell_type": "code",
   "execution_count": 7,
   "id": "532fb343-eb1f-446b-a566-930488f4e793",
   "metadata": {
    "tags": []
   },
   "outputs": [],
   "source": [
    "# Initial imports\n",
    "import os\n",
    "import requests\n",
    "import pandas as pd\n",
    "from dotenv import load_dotenv\n",
    "import alpaca_trade_api as tradeapi\n",
    "import warnings\n",
    "import random \n",
    "warnings.filterwarnings('ignore')\n",
    "\n",
    "%matplotlib inline"
   ]
  },
  {
   "cell_type": "code",
   "execution_count": 8,
   "id": "abb44871-3f5f-4da6-914e-dc24587e1910",
   "metadata": {
    "tags": []
   },
   "outputs": [
    {
     "data": {
      "text/plain": [
       "True"
      ]
     },
     "execution_count": 8,
     "metadata": {},
     "output_type": "execute_result"
    }
   ],
   "source": [
    "load_dotenv()"
   ]
  },
  {
   "cell_type": "code",
   "execution_count": 11,
   "id": "e442e80c-b811-4add-8770-c11ebeb00c5b",
   "metadata": {
    "tags": []
   },
   "outputs": [
    {
     "data": {
      "text/html": [
       "<div>\n",
       "<style scoped>\n",
       "    .dataframe tbody tr th:only-of-type {\n",
       "        vertical-align: middle;\n",
       "    }\n",
       "\n",
       "    .dataframe tbody tr th {\n",
       "        vertical-align: top;\n",
       "    }\n",
       "\n",
       "    .dataframe thead th {\n",
       "        text-align: right;\n",
       "    }\n",
       "</style>\n",
       "<table border=\"1\" class=\"dataframe\">\n",
       "  <thead>\n",
       "    <tr style=\"text-align: right;\">\n",
       "      <th></th>\n",
       "      <th>MSFT</th>\n",
       "      <th>KO</th>\n",
       "      <th>ENB</th>\n",
       "      <th>GOOG</th>\n",
       "    </tr>\n",
       "    <tr>\n",
       "      <th>timestamp</th>\n",
       "      <th></th>\n",
       "      <th></th>\n",
       "      <th></th>\n",
       "      <th></th>\n",
       "    </tr>\n",
       "  </thead>\n",
       "  <tbody>\n",
       "    <tr>\n",
       "      <th>2017-05-01 04:00:00+00:00</th>\n",
       "      <td>69.41</td>\n",
       "      <td>43.22</td>\n",
       "      <td>41.09</td>\n",
       "      <td>912.57</td>\n",
       "    </tr>\n",
       "    <tr>\n",
       "      <th>2017-05-02 04:00:00+00:00</th>\n",
       "      <td>69.30</td>\n",
       "      <td>43.39</td>\n",
       "      <td>41.51</td>\n",
       "      <td>916.44</td>\n",
       "    </tr>\n",
       "    <tr>\n",
       "      <th>2017-05-03 04:00:00+00:00</th>\n",
       "      <td>69.08</td>\n",
       "      <td>43.32</td>\n",
       "      <td>41.44</td>\n",
       "      <td>927.04</td>\n",
       "    </tr>\n",
       "    <tr>\n",
       "      <th>2017-05-04 04:00:00+00:00</th>\n",
       "      <td>68.81</td>\n",
       "      <td>43.66</td>\n",
       "      <td>40.50</td>\n",
       "      <td>931.66</td>\n",
       "    </tr>\n",
       "    <tr>\n",
       "      <th>2017-05-05 04:00:00+00:00</th>\n",
       "      <td>69.00</td>\n",
       "      <td>43.69</td>\n",
       "      <td>41.43</td>\n",
       "      <td>927.13</td>\n",
       "    </tr>\n",
       "  </tbody>\n",
       "</table>\n",
       "</div>"
      ],
      "text/plain": [
       "                            MSFT     KO    ENB    GOOG\n",
       "timestamp                                             \n",
       "2017-05-01 04:00:00+00:00  69.41  43.22  41.09  912.57\n",
       "2017-05-02 04:00:00+00:00  69.30  43.39  41.51  916.44\n",
       "2017-05-03 04:00:00+00:00  69.08  43.32  41.44  927.04\n",
       "2017-05-04 04:00:00+00:00  68.81  43.66  40.50  931.66\n",
       "2017-05-05 04:00:00+00:00  69.00  43.69  41.43  927.13"
      ]
     },
     "execution_count": 11,
     "metadata": {},
     "output_type": "execute_result"
    }
   ],
   "source": [
    "import os\n",
    "import pandas as pd\n",
    "from alpaca_trade_api.rest import REST, TimeFrame\n",
    "from dotenv import load_dotenv\n",
    "import warnings\n",
    "warnings.filterwarnings('ignore')\n",
    "\n",
    "\n",
    "def fetch_stock_data(api_key, secret_key, start_date, end_date, tickers, timeframe=\"1Day\"):\n",
    "    # Set Alpaca API credentials\n",
    "    alpaca_api_key = os.getenv(api_key)\n",
    "    alpaca_secret_key = os.getenv(secret_key)\n",
    "\n",
    "    # Initialize Alpaca API\n",
    "    api = REST(alpaca_api_key, alpaca_secret_key, base_url=\"https://paper-api.alpaca.markets\")\n",
    "\n",
    "    # Convert start_date and end_date to ISO format\n",
    "    start_date_iso = pd.Timestamp(start_date, tz=\"America/New_York\").isoformat()\n",
    "    end_date_iso = pd.Timestamp(end_date, tz=\"America/New_York\").isoformat()\n",
    "\n",
    "    # Get stock data using Alpaca API\n",
    "    df_ticker = api.get_bars(tickers, TimeFrame.Day, start=start_date_iso, end=end_date_iso).df\n",
    "\n",
    "    # Extract and process data for each ticker\n",
    "    dfs = {}\n",
    "    for ticker in tickers:\n",
    "        ticker_df = df_ticker.loc[df_ticker.symbol == ticker].drop('symbol', axis=1)\n",
    "        ticker_df = ticker_df['close']\n",
    "        dfs[ticker] = ticker_df\n",
    "\n",
    "    # Concatenate dataframes\n",
    "    new_df = pd.concat(dfs.values(), axis=1, keys=tickers)\n",
    "\n",
    "    return new_df\n",
    "\n",
    "# Where you can input your preferred timeframe and stocks\n",
    "api_key = \"ALPACA_API_KEY\"\n",
    "secret_key = \"ALPACA_SECRET_KEY\"\n",
    "start_date = \"2017-05-01\"\n",
    "end_date = \"2020-05-01\"\n",
    "tickers = [\"MSFT\", \"KO\",\"ENB\",\"GOOG\"] #can add as many stocks as you want\n",
    "\n",
    "#result_df = fetch_stock_data(api_key, secret_key, start_date, end_date, tickers)\n",
    "#this new dataframe will hold a summary of your stocks closing price\n",
    "result_df = fetch_stock_data(api_key, secret_key, start_date, end_date, tickers)\n",
    "result_df.head()"
   ]
  },
  {
   "cell_type": "markdown",
   "id": "c5a926c7-f175-4581-9f97-5bb07ea2ce0d",
   "metadata": {
    "tags": []
   },
   "source": [
    "## Function 3 - create a Function that Randomly generate weights to each assets in portfolio\n",
    "\n",
    "- Input = number of assets, number of simulations\n",
    "- Output = 3 assets, 4 simulation = [[0.2, 0.2, 0.6], [0.3, 0.3, 0.4], [0.5, 0.1, 0.4], [0.8, 0.1, 0.1]]"
   ]
  },
  {
   "cell_type": "code",
   "execution_count": 23,
   "id": "07501e90-3829-4cce-9e53-645b2e518683",
   "metadata": {
    "tags": []
   },
   "outputs": [],
   "source": [
    "def weights(stock_list, num_simulations):\n",
    "    all_lists = []\n",
    "    num_assets = len(stock_list)\n",
    "    for _ in range(num_simulations):\n",
    "        random_weights = gen_random_weights(num_assets)\n",
    "        all_lists.append(random_weights)\n",
    "    if num_simulations == 1:\n",
    "        all_lists = all_lists[0]\n",
    "    return all_lists\n",
    "def gen_random_weights(num_weights):\n",
    "    weights = [random.random() for _ in range(num_weights)]\n",
    "    normalized_weights = [round(w/sum(weights), 4) for w in weights]\n",
    "    if sum(normalized_weights) != 1:\n",
    "        return gen_random_weights(num_weights)\n",
    "    return normalized_weights\n",
    "\n"
   ]
  },
  {
   "cell_type": "markdown",
   "id": "1d14cafa-c722-468e-af5d-4082e4f9817e",
   "metadata": {},
   "source": [
    "### Function 4: Create Return vs. risk graph to show efficient frontier\n",
    " - Input = generated weights list, df\n",
    " - Output = Dataframe of portfolio returns and risks per each randomly generated weights\n",
    "\n",
    "- Eventually, graph using portfolio returns (y axis) vs. portfolio risks (x axis)\n",
    "\n",
    "W"
   ]
  }
 ],
 "metadata": {
  "kernelspec": {
   "display_name": "Python 3 (ipykernel)",
   "language": "python",
   "name": "python3"
  },
  "language_info": {
   "codemirror_mode": {
    "name": "ipython",
    "version": 3
   },
   "file_extension": ".py",
   "mimetype": "text/x-python",
   "name": "python",
   "nbconvert_exporter": "python",
   "pygments_lexer": "ipython3",
   "version": "3.11.5"
  }
 },
 "nbformat": 4,
 "nbformat_minor": 5
}
