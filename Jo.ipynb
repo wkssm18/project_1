{
 "cells": [
  {
   "cell_type": "markdown",
   "id": "c5a926c7-f175-4581-9f97-5bb07ea2ce0d",
   "metadata": {},
   "source": [
    "## Try out"
   ]
  },
  {

   "cell_type": "markdown",
   "id": "d0e68e3e",
   "metadata": {},
   "source": [
    "My work Amir Nizam"
   ]
   },
   {
   "cell_type": "code",
   "execution_count": 1,
   "id": "c60abc3a-2ffd-4c54-acd7-78a8e2b5e4af",
   "metadata": {
    "tags": []
   },
   "outputs": [
    {
     "data": {
      "text/plain": [
       "5"
      ]
     },
     "execution_count": 1,
     "metadata": {},
     "output_type": "execute_result"
    }
   ],
   "source": [
    "a = 2\n",
    "b = 3\n",
    "a + b"
   ]
  },
  {
   "cell_type": "code",
   "execution_count": null,
   "id": "88057717-26ef-48ce-907f-bf0ea6faead1",
   "metadata": {},
   "outputs": [],
   "source": []

  }
 ],
 "metadata": {
  "kernelspec": {
   "display_name": "Python 3 (ipykernel)",
   "language": "python",
   "name": "python3"
  },
  "language_info": {
   "codemirror_mode": {
    "name": "ipython",
    "version": 3
   },
   "file_extension": ".py",
   "mimetype": "text/x-python",
   "name": "python",
   "nbconvert_exporter": "python",
   "pygments_lexer": "ipython3",
   "version": "3.11.5"
  }
 },
 "nbformat": 4,
 "nbformat_minor": 5
}
