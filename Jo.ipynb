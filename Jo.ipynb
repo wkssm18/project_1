{
 "cells": [
  {
   "cell_type": "markdown",
   "id": "c5a926c7-f175-4581-9f97-5bb07ea2ce0d",
   "metadata": {},
   "source": [
    "## Try out"
   ]
  }
 ],
 "metadata": {
  "kernelspec": {
   "display_name": "Python 3 (ipykernel)",
   "language": "python",
   "name": "python3"
  },
  "language_info": {
   "codemirror_mode": {
    "name": "ipython",
    "version": 3
   },
   "file_extension": ".py",
   "mimetype": "text/x-python",
   "name": "python",
   "nbconvert_exporter": "python",
   "pygments_lexer": "ipython3",
   "version": "3.11.5"
  }
 },
 "nbformat": 4,
 "nbformat_minor": 5
}
