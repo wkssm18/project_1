{
 "cells": [
  {
   "cell_type": "code",
   "execution_count": 3,
   "id": "532fb343-eb1f-446b-a566-930488f4e793",
   "metadata": {
    "tags": []
   },
   "outputs": [],
   "source": [
    "# Initial imports\n",
    "import os\n",
    "import requests\n",
    "import pandas as pd\n",
    "from dotenv import load_dotenv\n",
    "import alpaca_trade_api as tradeapi\n",
    "import warnings\n",
    "warnings.filterwarnings('ignore')\n",
    "\n",
    "%matplotlib inline"
   ]
  },
  {
   "cell_type": "code",
   "execution_count": 4,
   "id": "abb44871-3f5f-4da6-914e-dc24587e1910",
   "metadata": {
    "tags": []
   },
   "outputs": [
    {
     "data": {
      "text/plain": [
       "True"
      ]
     },
     "execution_count": 4,
     "metadata": {},
     "output_type": "execute_result"
    }
   ],
   "source": [
    "load_dotenv()"
   ]
  },
  {
   "cell_type": "code",
   "execution_count": 7,
   "id": "e442e80c-b811-4add-8770-c11ebeb00c5b",
   "metadata": {
    "tags": []
   },
   "outputs": [
    {
     "data": {
      "text/html": [
       "<div>\n",
       "<style scoped>\n",
       "    .dataframe tbody tr th:only-of-type {\n",
       "        vertical-align: middle;\n",
       "    }\n",
       "\n",
       "    .dataframe tbody tr th {\n",
       "        vertical-align: top;\n",
       "    }\n",
       "\n",
       "    .dataframe thead th {\n",
       "        text-align: right;\n",
       "    }\n",
       "</style>\n",
       "<table border=\"1\" class=\"dataframe\">\n",
       "  <thead>\n",
       "    <tr style=\"text-align: right;\">\n",
       "      <th></th>\n",
       "      <th>MSFT</th>\n",
       "      <th>KO</th>\n",
       "      <th>ENB</th>\n",
       "      <th>GOOG</th>\n",
       "      <th>SBUX</th>\n",
       "    </tr>\n",
       "    <tr>\n",
       "      <th>timestamp</th>\n",
       "      <th></th>\n",
       "      <th></th>\n",
       "      <th></th>\n",
       "      <th></th>\n",
       "      <th></th>\n",
       "    </tr>\n",
       "  </thead>\n",
       "  <tbody>\n",
       "    <tr>\n",
       "      <th>2017-05-01 04:00:00+00:00</th>\n",
       "      <td>69.410</td>\n",
       "      <td>43.22</td>\n",
       "      <td>41.09</td>\n",
       "      <td>912.570</td>\n",
       "      <td>60.180</td>\n",
       "    </tr>\n",
       "    <tr>\n",
       "      <th>2017-05-02 04:00:00+00:00</th>\n",
       "      <td>69.300</td>\n",
       "      <td>43.39</td>\n",
       "      <td>41.51</td>\n",
       "      <td>916.440</td>\n",
       "      <td>60.500</td>\n",
       "    </tr>\n",
       "    <tr>\n",
       "      <th>2017-05-03 04:00:00+00:00</th>\n",
       "      <td>69.080</td>\n",
       "      <td>43.32</td>\n",
       "      <td>41.44</td>\n",
       "      <td>927.040</td>\n",
       "      <td>60.590</td>\n",
       "    </tr>\n",
       "    <tr>\n",
       "      <th>2017-05-04 04:00:00+00:00</th>\n",
       "      <td>68.810</td>\n",
       "      <td>43.66</td>\n",
       "      <td>40.50</td>\n",
       "      <td>931.660</td>\n",
       "      <td>60.830</td>\n",
       "    </tr>\n",
       "    <tr>\n",
       "      <th>2017-05-05 04:00:00+00:00</th>\n",
       "      <td>69.000</td>\n",
       "      <td>43.69</td>\n",
       "      <td>41.43</td>\n",
       "      <td>927.130</td>\n",
       "      <td>60.950</td>\n",
       "    </tr>\n",
       "    <tr>\n",
       "      <th>...</th>\n",
       "      <td>...</td>\n",
       "      <td>...</td>\n",
       "      <td>...</td>\n",
       "      <td>...</td>\n",
       "      <td>...</td>\n",
       "    </tr>\n",
       "    <tr>\n",
       "      <th>2020-04-27 04:00:00+00:00</th>\n",
       "      <td>174.050</td>\n",
       "      <td>46.78</td>\n",
       "      <td>29.66</td>\n",
       "      <td>1275.880</td>\n",
       "      <td>77.740</td>\n",
       "    </tr>\n",
       "    <tr>\n",
       "      <th>2020-04-28 04:00:00+00:00</th>\n",
       "      <td>169.810</td>\n",
       "      <td>46.74</td>\n",
       "      <td>30.39</td>\n",
       "      <td>1233.670</td>\n",
       "      <td>78.690</td>\n",
       "    </tr>\n",
       "    <tr>\n",
       "      <th>2020-04-29 04:00:00+00:00</th>\n",
       "      <td>177.430</td>\n",
       "      <td>47.12</td>\n",
       "      <td>31.97</td>\n",
       "      <td>1341.480</td>\n",
       "      <td>76.860</td>\n",
       "    </tr>\n",
       "    <tr>\n",
       "      <th>2020-04-30 04:00:00+00:00</th>\n",
       "      <td>179.129</td>\n",
       "      <td>45.89</td>\n",
       "      <td>30.68</td>\n",
       "      <td>1348.439</td>\n",
       "      <td>76.719</td>\n",
       "    </tr>\n",
       "    <tr>\n",
       "      <th>2020-05-01 04:00:00+00:00</th>\n",
       "      <td>174.570</td>\n",
       "      <td>45.60</td>\n",
       "      <td>29.86</td>\n",
       "      <td>1320.610</td>\n",
       "      <td>73.785</td>\n",
       "    </tr>\n",
       "  </tbody>\n",
       "</table>\n",
       "<p>757 rows × 5 columns</p>\n",
       "</div>"
      ],
      "text/plain": [
       "                              MSFT     KO    ENB      GOOG    SBUX\n",
       "timestamp                                                         \n",
       "2017-05-01 04:00:00+00:00   69.410  43.22  41.09   912.570  60.180\n",
       "2017-05-02 04:00:00+00:00   69.300  43.39  41.51   916.440  60.500\n",
       "2017-05-03 04:00:00+00:00   69.080  43.32  41.44   927.040  60.590\n",
       "2017-05-04 04:00:00+00:00   68.810  43.66  40.50   931.660  60.830\n",
       "2017-05-05 04:00:00+00:00   69.000  43.69  41.43   927.130  60.950\n",
       "...                            ...    ...    ...       ...     ...\n",
       "2020-04-27 04:00:00+00:00  174.050  46.78  29.66  1275.880  77.740\n",
       "2020-04-28 04:00:00+00:00  169.810  46.74  30.39  1233.670  78.690\n",
       "2020-04-29 04:00:00+00:00  177.430  47.12  31.97  1341.480  76.860\n",
       "2020-04-30 04:00:00+00:00  179.129  45.89  30.68  1348.439  76.719\n",
       "2020-05-01 04:00:00+00:00  174.570  45.60  29.86  1320.610  73.785\n",
       "\n",
       "[757 rows x 5 columns]"
      ]
     },
     "execution_count": 7,
     "metadata": {},
     "output_type": "execute_result"
    }
   ],
   "source": [
    "import os\n",
    "import pandas as pd\n",
    "from alpaca_trade_api.rest import REST, TimeFrame\n",
    "from dotenv import load_dotenv\n",
    "import warnings\n",
    "warnings.filterwarnings('ignore')\n",
    "\n",
    "\n",
    "def fetch_stock_data(api_key, secret_key, start_date, end_date, tickers, timeframe=\"1Day\"):\n",
    "    # Set Alpaca API credentials\n",
    "    alpaca_api_key = os.getenv(api_key)\n",
    "    alpaca_secret_key = os.getenv(secret_key)\n",
    "\n",
    "    # Initialize Alpaca API\n",
    "    api = REST(alpaca_api_key, alpaca_secret_key, base_url=\"https://paper-api.alpaca.markets\")\n",
    "\n",
    "    # Convert start_date and end_date to ISO format\n",
    "    start_date_iso = pd.Timestamp(start_date, tz=\"America/New_York\").isoformat()\n",
    "    end_date_iso = pd.Timestamp(end_date, tz=\"America/New_York\").isoformat()\n",
    "\n",
    "    # Get stock data using Alpaca API\n",
    "    df_ticker = api.get_bars(tickers, TimeFrame.Day, start=start_date_iso, end=end_date_iso).df\n",
    "\n",
    "    # Extract and process data for each ticker\n",
    "    dfs = {}\n",
    "    for ticker in tickers:\n",
    "        ticker_df = df_ticker.loc[df_ticker.symbol == ticker].drop('symbol', axis=1)\n",
    "        ticker_df = ticker_df['close']\n",
    "        dfs[ticker] = ticker_df\n",
    "\n",
    "    # Concatenate dataframes\n",
    "    new_df = pd.concat(dfs.values(), axis=1, keys=tickers)\n",
    "\n",
    "    return new_df\n",
    "\n",
    "# Where you can input your preferred timeframe and stocks\n",
    "#api_key = \"ALPACA_API_KEY\"\n",
    "#secret_key = \"ALPACA_SECRET_KEY\"\n",
    "start_date = \"2017-05-01\"\n",
    "end_date = \"2020-05-01\"\n",
    "tickers = [\"MSFT\", \"KO\",\"ENB\",\"GOOG\"] #can add as many stocks as you want\n",
    "\n",
    "#result_df = fetch_stock_data(api_key, secret_key, start_date, end_date, tickers)\n",
    "#this new dataframe will hold a summary of your stocks closing price\n",
    "result_df = fetch_stock_data(api_key, secret_key, start_date, end_date, tickers)\n",
    "result_df"
   ]
  },
  {
   "cell_type": "markdown",
   "id": "c5a926c7-f175-4581-9f97-5bb07ea2ce0d",
   "metadata": {
    "tags": []
   },
   "source": [
    "## Function 3 - create a Function that Randomly generate weights to each assets in portfolio\n",
    "\n",
    "- Input = number of assets, number of simulations\n",
    "- Output = 3 assets, 4 simulation = [[0.2, 0.2, 0.6], [0.3, 0.3, 0.4], [0.5, 0.1, 0.4], [0.8, 0.1, 0.1]]"
   ]
  },
  {
   "cell_type": "code",
   "execution_count": null,
   "id": "3ce021fa-f25a-4879-849e-c035925c121e",
   "metadata": {},
   "outputs": [],
   "source": []
  },
  {
   "cell_type": "code",
   "execution_count": null,
   "id": "c6e386f5-56fb-4340-a53f-5c16e17cdff0",
   "metadata": {},
   "outputs": [],
   "source": []
  },
  {
   "cell_type": "code",
   "execution_count": null,
   "id": "c21a1cae-f1fa-4f31-b345-03383e883bef",
   "metadata": {},
   "outputs": [],
   "source": []
  },
  {
   "cell_type": "code",
   "execution_count": null,
   "id": "277070bc-a256-42a6-b0bc-1ae96f87e1f3",
   "metadata": {},
   "outputs": [],
   "source": []
  },
  {
   "cell_type": "code",
   "execution_count": null,
   "id": "c98e0995-7865-4b7e-ae05-bf0dfc8bf0c2",
   "metadata": {},
   "outputs": [],
   "source": []
  },
  {
   "cell_type": "markdown",
   "id": "1d14cafa-c722-468e-af5d-4082e4f9817e",
   "metadata": {},
   "source": [
    "### Function 4: Create Return vs. risk graph to show efficient frontier\n",
    " - Input = generated weights list, df\n",
    " - Output = Dataframe of portfolio returns and risks per each randomly generated weights\n",
    "\n",
    "- Eventually, graph using portfolio returns (y axis) vs. portfolio risks (x axis)"
   ]
  }
 ],
 "metadata": {
  "kernelspec": {
   "display_name": "Python 3 (ipykernel)",
   "language": "python",
   "name": "python3"
  },
  "language_info": {
   "codemirror_mode": {
    "name": "ipython",
    "version": 3
   },
   "file_extension": ".py",
   "mimetype": "text/x-python",
   "name": "python",
   "nbconvert_exporter": "python",
   "pygments_lexer": "ipython3",
   "version": "3.11.5"
  }
 },
 "nbformat": 4,
 "nbformat_minor": 5
}
